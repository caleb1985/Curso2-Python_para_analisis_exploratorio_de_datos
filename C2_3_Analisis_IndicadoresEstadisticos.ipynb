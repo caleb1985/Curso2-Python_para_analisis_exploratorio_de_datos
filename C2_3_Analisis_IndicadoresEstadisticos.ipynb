{
 "cells": [
  {
   "cell_type": "code",
   "execution_count": 1,
   "id": "792740ef",
   "metadata": {},
   "outputs": [],
   "source": [
    "from IPython.core.interactiveshell import InteractiveShell\n",
    "InteractiveShell.ast_node_interactivity = \"all\""
   ]
  },
  {
   "cell_type": "markdown",
   "id": "09d8e036",
   "metadata": {},
   "source": [
    "# Analisis de indicadores estadisticos\n",
    "\n",
    "## Indicadores de tendencia central, dispersión y posición"
   ]
  },
  {
   "cell_type": "markdown",
   "id": "8e0cf83b",
   "metadata": {},
   "source": [
    "## *cálculos en arrays*"
   ]
  },
  {
   "cell_type": "code",
   "execution_count": 2,
   "id": "0d090acc",
   "metadata": {},
   "outputs": [],
   "source": [
    "import numpy as np"
   ]
  },
  {
   "cell_type": "code",
   "execution_count": 4,
   "id": "698204f1",
   "metadata": {},
   "outputs": [
    {
     "data": {
      "text/plain": [
       "array([4, 5, 9, 4, 6, 3, 2])"
      ]
     },
     "execution_count": 4,
     "metadata": {},
     "output_type": "execute_result"
    }
   ],
   "source": [
    "a = np.array([4, 5, 9, 4, 6, 3, 2])\n",
    "a"
   ]
  },
  {
   "cell_type": "code",
   "execution_count": 5,
   "id": "129cecab",
   "metadata": {},
   "outputs": [
    {
     "data": {
      "text/plain": [
       "33"
      ]
     },
     "execution_count": 5,
     "metadata": {},
     "output_type": "execute_result"
    },
    {
     "data": {
      "text/plain": [
       "4.714285714285714"
      ]
     },
     "execution_count": 5,
     "metadata": {},
     "output_type": "execute_result"
    },
    {
     "data": {
      "text/plain": [
       "4.0"
      ]
     },
     "execution_count": 5,
     "metadata": {},
     "output_type": "execute_result"
    },
    {
     "data": {
      "text/plain": [
       "4"
      ]
     },
     "execution_count": 5,
     "metadata": {},
     "output_type": "execute_result"
    }
   ],
   "source": [
    "np.sum(a)\n",
    "np.mean(a)\n",
    "np.median(a)\n",
    "\n",
    "import statistics as stat\n",
    "stat.mode(a)"
   ]
  },
  {
   "cell_type": "code",
   "execution_count": 7,
   "id": "7683a194",
   "metadata": {},
   "outputs": [
    {
     "data": {
      "text/plain": [
       "3.5"
      ]
     },
     "execution_count": 7,
     "metadata": {},
     "output_type": "execute_result"
    },
    {
     "data": {
      "text/plain": [
       "4.0"
      ]
     },
     "execution_count": 7,
     "metadata": {},
     "output_type": "execute_result"
    },
    {
     "data": {
      "text/plain": [
       "5.5"
      ]
     },
     "execution_count": 7,
     "metadata": {},
     "output_type": "execute_result"
    }
   ],
   "source": [
    "np.percentile(a, 25) # del 100% de datos de a, el 25% de datos tiene valores menores a 3.5, y el 75% tiene valores mayores a 3.5\n",
    "np.percentile(a, 50) # del 100% de datos de a, el 50% de datos tiene valores menores a 4, y el 50% tiene valores mayores a 4\n",
    "np.percentile(a, 75) # del 100% de datos de a, el 75% de datos tiene valores menores a 5.5, y el 25% tiene valores mayores a 5.5"
   ]
  },
  {
   "cell_type": "code",
   "execution_count": 8,
   "id": "3a5167af",
   "metadata": {},
   "outputs": [
    {
     "data": {
      "text/plain": [
       "2"
      ]
     },
     "execution_count": 8,
     "metadata": {},
     "output_type": "execute_result"
    },
    {
     "data": {
      "text/plain": [
       "9"
      ]
     },
     "execution_count": 8,
     "metadata": {},
     "output_type": "execute_result"
    },
    {
     "data": {
      "text/plain": [
       "2.1189138534559038"
      ]
     },
     "execution_count": 8,
     "metadata": {},
     "output_type": "execute_result"
    }
   ],
   "source": [
    "# a = array([4, 5, 9, 4, 6, 3, 2])\n",
    "\n",
    "min(a)\n",
    "max(a)\n",
    "np.std(a)"
   ]
  },
  {
   "cell_type": "code",
   "execution_count": 9,
   "id": "9c509e9d",
   "metadata": {},
   "outputs": [
    {
     "data": {
      "text/plain": [
       "0.8274271039321606"
      ]
     },
     "execution_count": 9,
     "metadata": {},
     "output_type": "execute_result"
    },
    {
     "data": {
      "text/plain": [
       "-0.1402479338842988"
      ]
     },
     "execution_count": 9,
     "metadata": {},
     "output_type": "execute_result"
    }
   ],
   "source": [
    "from scipy.stats import skew\n",
    "from scipy.stats import kurtosis\n",
    "\n",
    "skew(a)\n",
    "kurtosis(a)"
   ]
  },
  {
   "cell_type": "code",
   "execution_count": 10,
   "id": "229dd8f1",
   "metadata": {
    "scrolled": true
   },
   "outputs": [
    {
     "data": {
      "text/plain": [
       "array([[5, 6, 2],\n",
       "       [1, 6, 7],\n",
       "       [7, 5, 8]])"
      ]
     },
     "execution_count": 10,
     "metadata": {},
     "output_type": "execute_result"
    }
   ],
   "source": [
    "np.random.seed(2021)\n",
    "a = np.random.randint(1, 9, size=(3, 3))\n",
    "a"
   ]
  },
  {
   "cell_type": "code",
   "execution_count": 11,
   "id": "09059f3e",
   "metadata": {},
   "outputs": [
    {
     "data": {
      "text/plain": [
       "47"
      ]
     },
     "execution_count": 11,
     "metadata": {},
     "output_type": "execute_result"
    },
    {
     "data": {
      "text/plain": [
       "array([13, 17, 17])"
      ]
     },
     "execution_count": 11,
     "metadata": {},
     "output_type": "execute_result"
    },
    {
     "data": {
      "text/plain": [
       "array([13, 14, 20])"
      ]
     },
     "execution_count": 11,
     "metadata": {},
     "output_type": "execute_result"
    }
   ],
   "source": [
    "np.sum(a)\n",
    "np.sum(a, 0) # por columnas\n",
    "np.sum(a, 1) # por filas"
   ]
  },
  {
   "cell_type": "code",
   "execution_count": 12,
   "id": "d58ba70b",
   "metadata": {},
   "outputs": [
    {
     "data": {
      "text/plain": [
       "5.222222222222222"
      ]
     },
     "execution_count": 12,
     "metadata": {},
     "output_type": "execute_result"
    },
    {
     "data": {
      "text/plain": [
       "array([4.33333333, 5.66666667, 5.66666667])"
      ]
     },
     "execution_count": 12,
     "metadata": {},
     "output_type": "execute_result"
    },
    {
     "data": {
      "text/plain": [
       "array([4.33333333, 4.66666667, 6.66666667])"
      ]
     },
     "execution_count": 12,
     "metadata": {},
     "output_type": "execute_result"
    }
   ],
   "source": [
    "np.mean(a)\n",
    "np.mean(a, 0) # por columnas\n",
    "np.mean(a, 1) # por filas"
   ]
  },
  {
   "cell_type": "code",
   "execution_count": 13,
   "id": "7cbb740a",
   "metadata": {},
   "outputs": [
    {
     "data": {
      "text/plain": [
       "2.199887763691481"
      ]
     },
     "execution_count": 13,
     "metadata": {},
     "output_type": "execute_result"
    },
    {
     "data": {
      "text/plain": [
       "array([2.49443826, 0.47140452, 2.62466929])"
      ]
     },
     "execution_count": 13,
     "metadata": {},
     "output_type": "execute_result"
    },
    {
     "data": {
      "text/plain": [
       "array([1.69967317, 2.62466929, 1.24721913])"
      ]
     },
     "execution_count": 13,
     "metadata": {},
     "output_type": "execute_result"
    }
   ],
   "source": [
    "np.std(a)\n",
    "np.std(a, 0) # por columnas\n",
    "np.std(a, 1) # por filas"
   ]
  },
  {
   "cell_type": "code",
   "execution_count": 14,
   "id": "7db87463",
   "metadata": {},
   "outputs": [
    {
     "data": {
      "text/plain": [
       "5.0"
      ]
     },
     "execution_count": 14,
     "metadata": {},
     "output_type": "execute_result"
    },
    {
     "data": {
      "text/plain": [
       "array([3. , 5.5, 4.5])"
      ]
     },
     "execution_count": 14,
     "metadata": {},
     "output_type": "execute_result"
    },
    {
     "data": {
      "text/plain": [
       "array([3.5, 3.5, 6. ])"
      ]
     },
     "execution_count": 14,
     "metadata": {},
     "output_type": "execute_result"
    }
   ],
   "source": [
    "# array([[5, 6, 2],\n",
    "#       [1, 6, 7],\n",
    "#       [7, 5, 8]])\n",
    "\n",
    "np.percentile(a, 25)\n",
    "np.percentile(a, 25, 0) # por columnas\n",
    "np.percentile(a, 25, 1) # por filas"
   ]
  },
  {
   "cell_type": "code",
   "execution_count": 15,
   "id": "7fd0effd",
   "metadata": {},
   "outputs": [
    {
     "data": {
      "text/plain": [
       "1"
      ]
     },
     "execution_count": 15,
     "metadata": {},
     "output_type": "execute_result"
    },
    {
     "data": {
      "text/plain": [
       "array([1, 5, 2])"
      ]
     },
     "execution_count": 15,
     "metadata": {},
     "output_type": "execute_result"
    },
    {
     "data": {
      "text/plain": [
       "array([2, 1, 5])"
      ]
     },
     "execution_count": 15,
     "metadata": {},
     "output_type": "execute_result"
    }
   ],
   "source": [
    "a.min()\n",
    "a.min(0) # por columnas\n",
    "a.min(1) # por filas"
   ]
  },
  {
   "cell_type": "code",
   "execution_count": 16,
   "id": "42370593",
   "metadata": {},
   "outputs": [
    {
     "data": {
      "text/plain": [
       "8"
      ]
     },
     "execution_count": 16,
     "metadata": {},
     "output_type": "execute_result"
    },
    {
     "data": {
      "text/plain": [
       "array([7, 6, 8])"
      ]
     },
     "execution_count": 16,
     "metadata": {},
     "output_type": "execute_result"
    },
    {
     "data": {
      "text/plain": [
       "array([6, 7, 8])"
      ]
     },
     "execution_count": 16,
     "metadata": {},
     "output_type": "execute_result"
    }
   ],
   "source": [
    "a.max()\n",
    "a.max(0) # por columnas\n",
    "a.max(1) # por filas"
   ]
  },
  {
   "cell_type": "markdown",
   "id": "d0986179",
   "metadata": {},
   "source": [
    "## *cálculos en dataframes*"
   ]
  },
  {
   "cell_type": "code",
   "execution_count": 4,
   "id": "a40cc305",
   "metadata": {},
   "outputs": [],
   "source": [
    "import pandas as pd"
   ]
  },
  {
   "cell_type": "code",
   "execution_count": 6,
   "id": "d53fb91f",
   "metadata": {},
   "outputs": [
    {
     "data": {
      "text/plain": [
       "'F:\\\\Cursos\\\\ENPP\\\\2-Python_para_analisis_exploratorio_de_datos\\\\codigos python'"
      ]
     },
     "execution_count": 6,
     "metadata": {},
     "output_type": "execute_result"
    }
   ],
   "source": [
    "import os\n",
    "os.getcwd()\n",
    "# os.chdir('C:\\\\Users\\\\caleb.terrel\\\\Desktop\\\\2-Python_para_analisis_exploratorio_de_datos\\\\datasets')\n",
    "# os.getcwd()\n",
    "os.chdir('F:\\\\Cursos\\\\ENPP\\\\2-Python_para_analisis_exploratorio_de_datos\\\\datasets')"
   ]
  },
  {
   "cell_type": "code",
   "execution_count": 7,
   "id": "dcff69b8",
   "metadata": {},
   "outputs": [
    {
     "data": {
      "text/html": [
       "<div>\n",
       "<style scoped>\n",
       "    .dataframe tbody tr th:only-of-type {\n",
       "        vertical-align: middle;\n",
       "    }\n",
       "\n",
       "    .dataframe tbody tr th {\n",
       "        vertical-align: top;\n",
       "    }\n",
       "\n",
       "    .dataframe thead th {\n",
       "        text-align: right;\n",
       "    }\n",
       "</style>\n",
       "<table border=\"1\" class=\"dataframe\">\n",
       "  <thead>\n",
       "    <tr style=\"text-align: right;\">\n",
       "      <th></th>\n",
       "      <th>id</th>\n",
       "      <th>sexo</th>\n",
       "      <th>fechnac</th>\n",
       "      <th>educ</th>\n",
       "      <th>catlab</th>\n",
       "      <th>salario</th>\n",
       "      <th>salini</th>\n",
       "      <th>tiempemp</th>\n",
       "      <th>expprev</th>\n",
       "      <th>minoria</th>\n",
       "    </tr>\n",
       "  </thead>\n",
       "  <tbody>\n",
       "    <tr>\n",
       "      <th>0</th>\n",
       "      <td>1</td>\n",
       "      <td>Hombre</td>\n",
       "      <td>1952-02-03</td>\n",
       "      <td>15</td>\n",
       "      <td>Directivo</td>\n",
       "      <td>57000</td>\n",
       "      <td>27000</td>\n",
       "      <td>98</td>\n",
       "      <td>144</td>\n",
       "      <td>No</td>\n",
       "    </tr>\n",
       "    <tr>\n",
       "      <th>1</th>\n",
       "      <td>2</td>\n",
       "      <td>Hombre</td>\n",
       "      <td>1958-05-23</td>\n",
       "      <td>16</td>\n",
       "      <td>Administrativo</td>\n",
       "      <td>40200</td>\n",
       "      <td>18750</td>\n",
       "      <td>98</td>\n",
       "      <td>36</td>\n",
       "      <td>No</td>\n",
       "    </tr>\n",
       "    <tr>\n",
       "      <th>2</th>\n",
       "      <td>3</td>\n",
       "      <td>Mujer</td>\n",
       "      <td>1929-07-26</td>\n",
       "      <td>12</td>\n",
       "      <td>Administrativo</td>\n",
       "      <td>21450</td>\n",
       "      <td>12000</td>\n",
       "      <td>98</td>\n",
       "      <td>381</td>\n",
       "      <td>No</td>\n",
       "    </tr>\n",
       "    <tr>\n",
       "      <th>3</th>\n",
       "      <td>4</td>\n",
       "      <td>Mujer</td>\n",
       "      <td>1947-04-15</td>\n",
       "      <td>8</td>\n",
       "      <td>Administrativo</td>\n",
       "      <td>21900</td>\n",
       "      <td>13200</td>\n",
       "      <td>98</td>\n",
       "      <td>190</td>\n",
       "      <td>No</td>\n",
       "    </tr>\n",
       "    <tr>\n",
       "      <th>4</th>\n",
       "      <td>5</td>\n",
       "      <td>Hombre</td>\n",
       "      <td>1955-02-09</td>\n",
       "      <td>15</td>\n",
       "      <td>Administrativo</td>\n",
       "      <td>45000</td>\n",
       "      <td>21000</td>\n",
       "      <td>98</td>\n",
       "      <td>138</td>\n",
       "      <td>No</td>\n",
       "    </tr>\n",
       "  </tbody>\n",
       "</table>\n",
       "</div>"
      ],
      "text/plain": [
       "   id    sexo    fechnac  educ          catlab  salario  salini  tiempemp  \\\n",
       "0   1  Hombre 1952-02-03    15       Directivo    57000   27000        98   \n",
       "1   2  Hombre 1958-05-23    16  Administrativo    40200   18750        98   \n",
       "2   3   Mujer 1929-07-26    12  Administrativo    21450   12000        98   \n",
       "3   4   Mujer 1947-04-15     8  Administrativo    21900   13200        98   \n",
       "4   5  Hombre 1955-02-09    15  Administrativo    45000   21000        98   \n",
       "\n",
       "  expprev minoria  \n",
       "0     144      No  \n",
       "1      36      No  \n",
       "2     381      No  \n",
       "3     190      No  \n",
       "4     138      No  "
      ]
     },
     "execution_count": 7,
     "metadata": {},
     "output_type": "execute_result"
    }
   ],
   "source": [
    "ed = pd.read_excel('EmployeeData2.xlsx')\n",
    "ed.head()"
   ]
  },
  {
   "cell_type": "code",
   "execution_count": 21,
   "id": "9029aa5d",
   "metadata": {},
   "outputs": [
    {
     "name": "stdout",
     "output_type": "stream",
     "text": [
      "<class 'pandas.core.frame.DataFrame'>\n",
      "RangeIndex: 474 entries, 0 to 473\n",
      "Data columns (total 10 columns):\n",
      " #   Column    Non-Null Count  Dtype         \n",
      "---  ------    --------------  -----         \n",
      " 0   id        474 non-null    int64         \n",
      " 1   sexo      474 non-null    object        \n",
      " 2   fechnac   473 non-null    datetime64[ns]\n",
      " 3   educ      474 non-null    int64         \n",
      " 4   catlab    474 non-null    object        \n",
      " 5   salario   474 non-null    int64         \n",
      " 6   salini    474 non-null    int64         \n",
      " 7   tiempemp  474 non-null    int64         \n",
      " 8   expprev   474 non-null    object        \n",
      " 9   minoria   474 non-null    object        \n",
      "dtypes: datetime64[ns](1), int64(5), object(4)\n",
      "memory usage: 37.2+ KB\n"
     ]
    }
   ],
   "source": [
    "ed.info()"
   ]
  },
  {
   "cell_type": "code",
   "execution_count": 23,
   "id": "ee521a82",
   "metadata": {},
   "outputs": [
    {
     "name": "stderr",
     "output_type": "stream",
     "text": [
      "<ipython-input-23-1c2bf960d898>:2: FutureWarning: Treating datetime data as categorical rather than numeric in `.describe` is deprecated and will be removed in a future version of pandas. Specify `datetime_is_numeric=True` to silence this warning and adopt the future behavior now.\n",
      "  ed.describe(include = \"all\")\n"
     ]
    },
    {
     "data": {
      "text/html": [
       "<div>\n",
       "<style scoped>\n",
       "    .dataframe tbody tr th:only-of-type {\n",
       "        vertical-align: middle;\n",
       "    }\n",
       "\n",
       "    .dataframe tbody tr th {\n",
       "        vertical-align: top;\n",
       "    }\n",
       "\n",
       "    .dataframe thead th {\n",
       "        text-align: right;\n",
       "    }\n",
       "</style>\n",
       "<table border=\"1\" class=\"dataframe\">\n",
       "  <thead>\n",
       "    <tr style=\"text-align: right;\">\n",
       "      <th></th>\n",
       "      <th>id</th>\n",
       "      <th>sexo</th>\n",
       "      <th>fechnac</th>\n",
       "      <th>educ</th>\n",
       "      <th>catlab</th>\n",
       "      <th>salario</th>\n",
       "      <th>salini</th>\n",
       "      <th>tiempemp</th>\n",
       "      <th>expprev</th>\n",
       "      <th>minoria</th>\n",
       "    </tr>\n",
       "  </thead>\n",
       "  <tbody>\n",
       "    <tr>\n",
       "      <th>count</th>\n",
       "      <td>474.000000</td>\n",
       "      <td>474</td>\n",
       "      <td>473</td>\n",
       "      <td>474.000000</td>\n",
       "      <td>474</td>\n",
       "      <td>474.000000</td>\n",
       "      <td>474.000000</td>\n",
       "      <td>474.000000</td>\n",
       "      <td>474</td>\n",
       "      <td>474</td>\n",
       "    </tr>\n",
       "    <tr>\n",
       "      <th>unique</th>\n",
       "      <td>NaN</td>\n",
       "      <td>2</td>\n",
       "      <td>461</td>\n",
       "      <td>NaN</td>\n",
       "      <td>3</td>\n",
       "      <td>NaN</td>\n",
       "      <td>NaN</td>\n",
       "      <td>NaN</td>\n",
       "      <td>208</td>\n",
       "      <td>2</td>\n",
       "    </tr>\n",
       "    <tr>\n",
       "      <th>top</th>\n",
       "      <td>NaN</td>\n",
       "      <td>Hombre</td>\n",
       "      <td>1962-02-08 00:00:00</td>\n",
       "      <td>NaN</td>\n",
       "      <td>Administrativo</td>\n",
       "      <td>NaN</td>\n",
       "      <td>NaN</td>\n",
       "      <td>NaN</td>\n",
       "      <td>Ausente</td>\n",
       "      <td>No</td>\n",
       "    </tr>\n",
       "    <tr>\n",
       "      <th>freq</th>\n",
       "      <td>NaN</td>\n",
       "      <td>258</td>\n",
       "      <td>2</td>\n",
       "      <td>NaN</td>\n",
       "      <td>363</td>\n",
       "      <td>NaN</td>\n",
       "      <td>NaN</td>\n",
       "      <td>NaN</td>\n",
       "      <td>24</td>\n",
       "      <td>370</td>\n",
       "    </tr>\n",
       "    <tr>\n",
       "      <th>first</th>\n",
       "      <td>NaN</td>\n",
       "      <td>NaN</td>\n",
       "      <td>1929-02-10 00:00:00</td>\n",
       "      <td>NaN</td>\n",
       "      <td>NaN</td>\n",
       "      <td>NaN</td>\n",
       "      <td>NaN</td>\n",
       "      <td>NaN</td>\n",
       "      <td>NaN</td>\n",
       "      <td>NaN</td>\n",
       "    </tr>\n",
       "    <tr>\n",
       "      <th>last</th>\n",
       "      <td>NaN</td>\n",
       "      <td>NaN</td>\n",
       "      <td>1971-02-10 00:00:00</td>\n",
       "      <td>NaN</td>\n",
       "      <td>NaN</td>\n",
       "      <td>NaN</td>\n",
       "      <td>NaN</td>\n",
       "      <td>NaN</td>\n",
       "      <td>NaN</td>\n",
       "      <td>NaN</td>\n",
       "    </tr>\n",
       "    <tr>\n",
       "      <th>mean</th>\n",
       "      <td>237.500000</td>\n",
       "      <td>NaN</td>\n",
       "      <td>NaN</td>\n",
       "      <td>13.491561</td>\n",
       "      <td>NaN</td>\n",
       "      <td>34419.567511</td>\n",
       "      <td>17016.086498</td>\n",
       "      <td>81.109705</td>\n",
       "      <td>NaN</td>\n",
       "      <td>NaN</td>\n",
       "    </tr>\n",
       "    <tr>\n",
       "      <th>std</th>\n",
       "      <td>136.976275</td>\n",
       "      <td>NaN</td>\n",
       "      <td>NaN</td>\n",
       "      <td>2.884846</td>\n",
       "      <td>NaN</td>\n",
       "      <td>17075.661465</td>\n",
       "      <td>7870.638154</td>\n",
       "      <td>10.060945</td>\n",
       "      <td>NaN</td>\n",
       "      <td>NaN</td>\n",
       "    </tr>\n",
       "    <tr>\n",
       "      <th>min</th>\n",
       "      <td>1.000000</td>\n",
       "      <td>NaN</td>\n",
       "      <td>NaN</td>\n",
       "      <td>8.000000</td>\n",
       "      <td>NaN</td>\n",
       "      <td>15750.000000</td>\n",
       "      <td>9000.000000</td>\n",
       "      <td>63.000000</td>\n",
       "      <td>NaN</td>\n",
       "      <td>NaN</td>\n",
       "    </tr>\n",
       "    <tr>\n",
       "      <th>25%</th>\n",
       "      <td>119.250000</td>\n",
       "      <td>NaN</td>\n",
       "      <td>NaN</td>\n",
       "      <td>12.000000</td>\n",
       "      <td>NaN</td>\n",
       "      <td>24000.000000</td>\n",
       "      <td>12487.500000</td>\n",
       "      <td>72.000000</td>\n",
       "      <td>NaN</td>\n",
       "      <td>NaN</td>\n",
       "    </tr>\n",
       "    <tr>\n",
       "      <th>50%</th>\n",
       "      <td>237.500000</td>\n",
       "      <td>NaN</td>\n",
       "      <td>NaN</td>\n",
       "      <td>12.000000</td>\n",
       "      <td>NaN</td>\n",
       "      <td>28875.000000</td>\n",
       "      <td>15000.000000</td>\n",
       "      <td>81.000000</td>\n",
       "      <td>NaN</td>\n",
       "      <td>NaN</td>\n",
       "    </tr>\n",
       "    <tr>\n",
       "      <th>75%</th>\n",
       "      <td>355.750000</td>\n",
       "      <td>NaN</td>\n",
       "      <td>NaN</td>\n",
       "      <td>15.000000</td>\n",
       "      <td>NaN</td>\n",
       "      <td>36937.500000</td>\n",
       "      <td>17490.000000</td>\n",
       "      <td>90.000000</td>\n",
       "      <td>NaN</td>\n",
       "      <td>NaN</td>\n",
       "    </tr>\n",
       "    <tr>\n",
       "      <th>max</th>\n",
       "      <td>474.000000</td>\n",
       "      <td>NaN</td>\n",
       "      <td>NaN</td>\n",
       "      <td>21.000000</td>\n",
       "      <td>NaN</td>\n",
       "      <td>135000.000000</td>\n",
       "      <td>79980.000000</td>\n",
       "      <td>98.000000</td>\n",
       "      <td>NaN</td>\n",
       "      <td>NaN</td>\n",
       "    </tr>\n",
       "  </tbody>\n",
       "</table>\n",
       "</div>"
      ],
      "text/plain": [
       "                id    sexo              fechnac        educ          catlab  \\\n",
       "count   474.000000     474                  473  474.000000             474   \n",
       "unique         NaN       2                  461         NaN               3   \n",
       "top            NaN  Hombre  1962-02-08 00:00:00         NaN  Administrativo   \n",
       "freq           NaN     258                    2         NaN             363   \n",
       "first          NaN     NaN  1929-02-10 00:00:00         NaN             NaN   \n",
       "last           NaN     NaN  1971-02-10 00:00:00         NaN             NaN   \n",
       "mean    237.500000     NaN                  NaN   13.491561             NaN   \n",
       "std     136.976275     NaN                  NaN    2.884846             NaN   \n",
       "min       1.000000     NaN                  NaN    8.000000             NaN   \n",
       "25%     119.250000     NaN                  NaN   12.000000             NaN   \n",
       "50%     237.500000     NaN                  NaN   12.000000             NaN   \n",
       "75%     355.750000     NaN                  NaN   15.000000             NaN   \n",
       "max     474.000000     NaN                  NaN   21.000000             NaN   \n",
       "\n",
       "              salario        salini    tiempemp  expprev minoria  \n",
       "count      474.000000    474.000000  474.000000      474     474  \n",
       "unique            NaN           NaN         NaN      208       2  \n",
       "top               NaN           NaN         NaN  Ausente      No  \n",
       "freq              NaN           NaN         NaN       24     370  \n",
       "first             NaN           NaN         NaN      NaN     NaN  \n",
       "last              NaN           NaN         NaN      NaN     NaN  \n",
       "mean     34419.567511  17016.086498   81.109705      NaN     NaN  \n",
       "std      17075.661465   7870.638154   10.060945      NaN     NaN  \n",
       "min      15750.000000   9000.000000   63.000000      NaN     NaN  \n",
       "25%      24000.000000  12487.500000   72.000000      NaN     NaN  \n",
       "50%      28875.000000  15000.000000   81.000000      NaN     NaN  \n",
       "75%      36937.500000  17490.000000   90.000000      NaN     NaN  \n",
       "max     135000.000000  79980.000000   98.000000      NaN     NaN  "
      ]
     },
     "execution_count": 23,
     "metadata": {},
     "output_type": "execute_result"
    }
   ],
   "source": [
    "#ed.describe()\n",
    "ed.describe(include = \"all\")"
   ]
  },
  {
   "cell_type": "code",
   "execution_count": 24,
   "id": "e6a7db69",
   "metadata": {},
   "outputs": [
    {
     "data": {
      "text/plain": [
       "id          0\n",
       "sexo        0\n",
       "fechnac     1\n",
       "educ        0\n",
       "catlab      0\n",
       "salario     0\n",
       "salini      0\n",
       "tiempemp    0\n",
       "expprev     0\n",
       "minoria     0\n",
       "dtype: int64"
      ]
     },
     "execution_count": 24,
     "metadata": {},
     "output_type": "execute_result"
    }
   ],
   "source": [
    "ed.isnull().sum()"
   ]
  },
  {
   "cell_type": "code",
   "execution_count": 25,
   "id": "6c3789a8",
   "metadata": {},
   "outputs": [
    {
     "data": {
      "text/plain": [
       "Hombre    258\n",
       "Mujer     216\n",
       "Name: sexo, dtype: int64"
      ]
     },
     "execution_count": 25,
     "metadata": {},
     "output_type": "execute_result"
    },
    {
     "data": {
      "text/plain": [
       "Administrativo    363\n",
       "Directivo          84\n",
       "Seguridad          27\n",
       "Name: catlab, dtype: int64"
      ]
     },
     "execution_count": 25,
     "metadata": {},
     "output_type": "execute_result"
    }
   ],
   "source": [
    "ed['sexo'].value_counts()\n",
    "ed['catlab'].value_counts()"
   ]
  },
  {
   "cell_type": "code",
   "execution_count": 26,
   "id": "ccf9409e",
   "metadata": {},
   "outputs": [
    {
     "data": {
      "text/plain": [
       "Hombre    0.544304\n",
       "Mujer     0.455696\n",
       "Name: sexo, dtype: float64"
      ]
     },
     "execution_count": 26,
     "metadata": {},
     "output_type": "execute_result"
    },
    {
     "data": {
      "text/plain": [
       "Administrativo    0.765823\n",
       "Directivo         0.177215\n",
       "Seguridad         0.056962\n",
       "Name: catlab, dtype: float64"
      ]
     },
     "execution_count": 26,
     "metadata": {},
     "output_type": "execute_result"
    }
   ],
   "source": [
    "ed['sexo'].value_counts(normalize=True)\n",
    "ed['catlab'].value_counts(normalize=True)"
   ]
  },
  {
   "cell_type": "markdown",
   "id": "4d0e5345",
   "metadata": {},
   "source": [
    "### Agregacion de dataframe"
   ]
  },
  {
   "cell_type": "code",
   "execution_count": 9,
   "id": "21013897",
   "metadata": {},
   "outputs": [
    {
     "data": {
      "text/plain": [
       "sexo\n",
       "Hombre    41441.782946\n",
       "Mujer     26031.921296\n",
       "Name: salario, dtype: float64"
      ]
     },
     "execution_count": 9,
     "metadata": {},
     "output_type": "execute_result"
    }
   ],
   "source": [
    "ed.groupby(by='sexo')['salario'].mean()"
   ]
  },
  {
   "cell_type": "code",
   "execution_count": 8,
   "id": "720f303e",
   "metadata": {},
   "outputs": [
    {
     "data": {
      "text/html": [
       "<div>\n",
       "<style scoped>\n",
       "    .dataframe tbody tr th:only-of-type {\n",
       "        vertical-align: middle;\n",
       "    }\n",
       "\n",
       "    .dataframe tbody tr th {\n",
       "        vertical-align: top;\n",
       "    }\n",
       "\n",
       "    .dataframe thead th {\n",
       "        text-align: right;\n",
       "    }\n",
       "</style>\n",
       "<table border=\"1\" class=\"dataframe\">\n",
       "  <thead>\n",
       "    <tr style=\"text-align: right;\">\n",
       "      <th></th>\n",
       "      <th>salario</th>\n",
       "    </tr>\n",
       "    <tr>\n",
       "      <th>sexo</th>\n",
       "      <th></th>\n",
       "    </tr>\n",
       "  </thead>\n",
       "  <tbody>\n",
       "    <tr>\n",
       "      <th>Hombre</th>\n",
       "      <td>41441.782946</td>\n",
       "    </tr>\n",
       "    <tr>\n",
       "      <th>Mujer</th>\n",
       "      <td>26031.921296</td>\n",
       "    </tr>\n",
       "  </tbody>\n",
       "</table>\n",
       "</div>"
      ],
      "text/plain": [
       "             salario\n",
       "sexo                \n",
       "Hombre  41441.782946\n",
       "Mujer   26031.921296"
      ]
     },
     "execution_count": 8,
     "metadata": {},
     "output_type": "execute_result"
    }
   ],
   "source": [
    "pd.DataFrame(ed.groupby(by='sexo')['salario'].mean())"
   ]
  },
  {
   "cell_type": "code",
   "execution_count": 12,
   "id": "430abdeb",
   "metadata": {},
   "outputs": [
    {
     "data": {
      "text/html": [
       "<div>\n",
       "<style scoped>\n",
       "    .dataframe tbody tr th:only-of-type {\n",
       "        vertical-align: middle;\n",
       "    }\n",
       "\n",
       "    .dataframe tbody tr th {\n",
       "        vertical-align: top;\n",
       "    }\n",
       "\n",
       "    .dataframe thead th {\n",
       "        text-align: right;\n",
       "    }\n",
       "</style>\n",
       "<table border=\"1\" class=\"dataframe\">\n",
       "  <thead>\n",
       "    <tr style=\"text-align: right;\">\n",
       "      <th></th>\n",
       "      <th>sexo</th>\n",
       "      <th>salario</th>\n",
       "    </tr>\n",
       "  </thead>\n",
       "  <tbody>\n",
       "    <tr>\n",
       "      <th>0</th>\n",
       "      <td>Hombre</td>\n",
       "      <td>41441.782946</td>\n",
       "    </tr>\n",
       "    <tr>\n",
       "      <th>1</th>\n",
       "      <td>Mujer</td>\n",
       "      <td>26031.921296</td>\n",
       "    </tr>\n",
       "  </tbody>\n",
       "</table>\n",
       "</div>"
      ],
      "text/plain": [
       "     sexo       salario\n",
       "0  Hombre  41441.782946\n",
       "1   Mujer  26031.921296"
      ]
     },
     "execution_count": 12,
     "metadata": {},
     "output_type": "execute_result"
    }
   ],
   "source": [
    "pd.DataFrame(ed.groupby(by='sexo', as_index = False)['salario'].mean())"
   ]
  },
  {
   "cell_type": "code",
   "execution_count": 10,
   "id": "769a7df8",
   "metadata": {},
   "outputs": [
    {
     "data": {
      "text/plain": [
       "sexo    catlab        \n",
       "Hombre  Administrativo    31558.152866\n",
       "        Directivo         66243.243243\n",
       "        Seguridad         30938.888889\n",
       "Mujer   Administrativo    25003.689320\n",
       "        Directivo         47213.500000\n",
       "Name: salario, dtype: float64"
      ]
     },
     "execution_count": 10,
     "metadata": {},
     "output_type": "execute_result"
    }
   ],
   "source": [
    "ed.groupby(by=['sexo', 'catlab'])['salario'].mean()"
   ]
  },
  {
   "cell_type": "code",
   "execution_count": 11,
   "id": "943be920",
   "metadata": {},
   "outputs": [
    {
     "data": {
      "text/html": [
       "<div>\n",
       "<style scoped>\n",
       "    .dataframe tbody tr th:only-of-type {\n",
       "        vertical-align: middle;\n",
       "    }\n",
       "\n",
       "    .dataframe tbody tr th {\n",
       "        vertical-align: top;\n",
       "    }\n",
       "\n",
       "    .dataframe thead th {\n",
       "        text-align: right;\n",
       "    }\n",
       "</style>\n",
       "<table border=\"1\" class=\"dataframe\">\n",
       "  <thead>\n",
       "    <tr style=\"text-align: right;\">\n",
       "      <th></th>\n",
       "      <th></th>\n",
       "      <th>salario</th>\n",
       "    </tr>\n",
       "    <tr>\n",
       "      <th>sexo</th>\n",
       "      <th>catlab</th>\n",
       "      <th></th>\n",
       "    </tr>\n",
       "  </thead>\n",
       "  <tbody>\n",
       "    <tr>\n",
       "      <th rowspan=\"3\" valign=\"top\">Hombre</th>\n",
       "      <th>Administrativo</th>\n",
       "      <td>31558.152866</td>\n",
       "    </tr>\n",
       "    <tr>\n",
       "      <th>Directivo</th>\n",
       "      <td>66243.243243</td>\n",
       "    </tr>\n",
       "    <tr>\n",
       "      <th>Seguridad</th>\n",
       "      <td>30938.888889</td>\n",
       "    </tr>\n",
       "    <tr>\n",
       "      <th rowspan=\"2\" valign=\"top\">Mujer</th>\n",
       "      <th>Administrativo</th>\n",
       "      <td>25003.689320</td>\n",
       "    </tr>\n",
       "    <tr>\n",
       "      <th>Directivo</th>\n",
       "      <td>47213.500000</td>\n",
       "    </tr>\n",
       "  </tbody>\n",
       "</table>\n",
       "</div>"
      ],
      "text/plain": [
       "                            salario\n",
       "sexo   catlab                      \n",
       "Hombre Administrativo  31558.152866\n",
       "       Directivo       66243.243243\n",
       "       Seguridad       30938.888889\n",
       "Mujer  Administrativo  25003.689320\n",
       "       Directivo       47213.500000"
      ]
     },
     "execution_count": 11,
     "metadata": {},
     "output_type": "execute_result"
    }
   ],
   "source": [
    "pd.DataFrame(ed.groupby(by=['sexo', 'catlab'])['salario'].mean())"
   ]
  },
  {
   "cell_type": "code",
   "execution_count": 16,
   "id": "a1d5acf1",
   "metadata": {},
   "outputs": [
    {
     "data": {
      "text/html": [
       "<div>\n",
       "<style scoped>\n",
       "    .dataframe tbody tr th:only-of-type {\n",
       "        vertical-align: middle;\n",
       "    }\n",
       "\n",
       "    .dataframe tbody tr th {\n",
       "        vertical-align: top;\n",
       "    }\n",
       "\n",
       "    .dataframe thead th {\n",
       "        text-align: right;\n",
       "    }\n",
       "</style>\n",
       "<table border=\"1\" class=\"dataframe\">\n",
       "  <thead>\n",
       "    <tr style=\"text-align: right;\">\n",
       "      <th></th>\n",
       "      <th>sexo</th>\n",
       "      <th>catlab</th>\n",
       "      <th>salario</th>\n",
       "    </tr>\n",
       "  </thead>\n",
       "  <tbody>\n",
       "    <tr>\n",
       "      <th>0</th>\n",
       "      <td>Hombre</td>\n",
       "      <td>Administrativo</td>\n",
       "      <td>31558.152866</td>\n",
       "    </tr>\n",
       "    <tr>\n",
       "      <th>1</th>\n",
       "      <td>Hombre</td>\n",
       "      <td>Directivo</td>\n",
       "      <td>66243.243243</td>\n",
       "    </tr>\n",
       "    <tr>\n",
       "      <th>2</th>\n",
       "      <td>Hombre</td>\n",
       "      <td>Seguridad</td>\n",
       "      <td>30938.888889</td>\n",
       "    </tr>\n",
       "    <tr>\n",
       "      <th>3</th>\n",
       "      <td>Mujer</td>\n",
       "      <td>Administrativo</td>\n",
       "      <td>25003.689320</td>\n",
       "    </tr>\n",
       "    <tr>\n",
       "      <th>4</th>\n",
       "      <td>Mujer</td>\n",
       "      <td>Directivo</td>\n",
       "      <td>47213.500000</td>\n",
       "    </tr>\n",
       "  </tbody>\n",
       "</table>\n",
       "</div>"
      ],
      "text/plain": [
       "     sexo          catlab       salario\n",
       "0  Hombre  Administrativo  31558.152866\n",
       "1  Hombre       Directivo  66243.243243\n",
       "2  Hombre       Seguridad  30938.888889\n",
       "3   Mujer  Administrativo  25003.689320\n",
       "4   Mujer       Directivo  47213.500000"
      ]
     },
     "execution_count": 16,
     "metadata": {},
     "output_type": "execute_result"
    }
   ],
   "source": [
    "pd.DataFrame(ed.groupby(by=['sexo', 'catlab'], as_index = False)['salario'].mean())"
   ]
  },
  {
   "cell_type": "code",
   "execution_count": 17,
   "id": "51d287ff",
   "metadata": {},
   "outputs": [
    {
     "data": {
      "text/html": [
       "<div>\n",
       "<style scoped>\n",
       "    .dataframe tbody tr th:only-of-type {\n",
       "        vertical-align: middle;\n",
       "    }\n",
       "\n",
       "    .dataframe tbody tr th {\n",
       "        vertical-align: top;\n",
       "    }\n",
       "\n",
       "    .dataframe thead tr th {\n",
       "        text-align: left;\n",
       "    }\n",
       "\n",
       "    .dataframe thead tr:last-of-type th {\n",
       "        text-align: right;\n",
       "    }\n",
       "</style>\n",
       "<table border=\"1\" class=\"dataframe\">\n",
       "  <thead>\n",
       "    <tr>\n",
       "      <th></th>\n",
       "      <th></th>\n",
       "      <th colspan=\"2\" halign=\"left\">salario</th>\n",
       "      <th colspan=\"2\" halign=\"left\">tiempemp</th>\n",
       "    </tr>\n",
       "    <tr>\n",
       "      <th></th>\n",
       "      <th></th>\n",
       "      <th>mean</th>\n",
       "      <th>std</th>\n",
       "      <th>mean</th>\n",
       "      <th>std</th>\n",
       "    </tr>\n",
       "    <tr>\n",
       "      <th>sexo</th>\n",
       "      <th>catlab</th>\n",
       "      <th></th>\n",
       "      <th></th>\n",
       "      <th></th>\n",
       "      <th></th>\n",
       "    </tr>\n",
       "  </thead>\n",
       "  <tbody>\n",
       "    <tr>\n",
       "      <th rowspan=\"3\" valign=\"top\">Hombre</th>\n",
       "      <th>Administrativo</th>\n",
       "      <td>31558.152866</td>\n",
       "      <td>7997.977675</td>\n",
       "      <td>81.726115</td>\n",
       "      <td>10.670239</td>\n",
       "    </tr>\n",
       "    <tr>\n",
       "      <th>Directivo</th>\n",
       "      <td>66243.243243</td>\n",
       "      <td>18051.569628</td>\n",
       "      <td>81.770270</td>\n",
       "      <td>10.403565</td>\n",
       "    </tr>\n",
       "    <tr>\n",
       "      <th>Seguridad</th>\n",
       "      <td>30938.888889</td>\n",
       "      <td>2114.616411</td>\n",
       "      <td>81.555556</td>\n",
       "      <td>8.486792</td>\n",
       "    </tr>\n",
       "    <tr>\n",
       "      <th rowspan=\"2\" valign=\"top\">Mujer</th>\n",
       "      <th>Administrativo</th>\n",
       "      <td>25003.689320</td>\n",
       "      <td>5812.838103</td>\n",
       "      <td>80.563107</td>\n",
       "      <td>9.658228</td>\n",
       "    </tr>\n",
       "    <tr>\n",
       "      <th>Directivo</th>\n",
       "      <td>47213.500000</td>\n",
       "      <td>8501.252538</td>\n",
       "      <td>76.600000</td>\n",
       "      <td>9.766155</td>\n",
       "    </tr>\n",
       "  </tbody>\n",
       "</table>\n",
       "</div>"
      ],
      "text/plain": [
       "                            salario                 tiempemp           \n",
       "                               mean           std       mean        std\n",
       "sexo   catlab                                                          \n",
       "Hombre Administrativo  31558.152866   7997.977675  81.726115  10.670239\n",
       "       Directivo       66243.243243  18051.569628  81.770270  10.403565\n",
       "       Seguridad       30938.888889   2114.616411  81.555556   8.486792\n",
       "Mujer  Administrativo  25003.689320   5812.838103  80.563107   9.658228\n",
       "       Directivo       47213.500000   8501.252538  76.600000   9.766155"
      ]
     },
     "execution_count": 17,
     "metadata": {},
     "output_type": "execute_result"
    }
   ],
   "source": [
    "# en ed selecciono las variables numericas q requiero calcular\n",
    "\n",
    "ed[['sexo', 'catlab', 'salario', 'tiempemp']].groupby(by=['sexo', 'catlab']).agg([np.mean, np.std])"
   ]
  },
  {
   "cell_type": "code",
   "execution_count": 19,
   "id": "5db4dd03",
   "metadata": {},
   "outputs": [
    {
     "data": {
      "text/html": [
       "<div>\n",
       "<style scoped>\n",
       "    .dataframe tbody tr th:only-of-type {\n",
       "        vertical-align: middle;\n",
       "    }\n",
       "\n",
       "    .dataframe tbody tr th {\n",
       "        vertical-align: top;\n",
       "    }\n",
       "\n",
       "    .dataframe thead tr th {\n",
       "        text-align: left;\n",
       "    }\n",
       "\n",
       "    .dataframe thead tr:last-of-type th {\n",
       "        text-align: right;\n",
       "    }\n",
       "</style>\n",
       "<table border=\"1\" class=\"dataframe\">\n",
       "  <thead>\n",
       "    <tr>\n",
       "      <th></th>\n",
       "      <th></th>\n",
       "      <th colspan=\"2\" halign=\"left\">id</th>\n",
       "      <th colspan=\"2\" halign=\"left\">educ</th>\n",
       "      <th colspan=\"2\" halign=\"left\">salario</th>\n",
       "      <th colspan=\"2\" halign=\"left\">salini</th>\n",
       "      <th colspan=\"2\" halign=\"left\">tiempemp</th>\n",
       "    </tr>\n",
       "    <tr>\n",
       "      <th></th>\n",
       "      <th></th>\n",
       "      <th>mean</th>\n",
       "      <th>std</th>\n",
       "      <th>mean</th>\n",
       "      <th>std</th>\n",
       "      <th>mean</th>\n",
       "      <th>std</th>\n",
       "      <th>mean</th>\n",
       "      <th>std</th>\n",
       "      <th>mean</th>\n",
       "      <th>std</th>\n",
       "    </tr>\n",
       "    <tr>\n",
       "      <th>sexo</th>\n",
       "      <th>catlab</th>\n",
       "      <th></th>\n",
       "      <th></th>\n",
       "      <th></th>\n",
       "      <th></th>\n",
       "      <th></th>\n",
       "      <th></th>\n",
       "      <th></th>\n",
       "      <th></th>\n",
       "      <th></th>\n",
       "      <th></th>\n",
       "    </tr>\n",
       "  </thead>\n",
       "  <tbody>\n",
       "    <tr>\n",
       "      <th rowspan=\"3\" valign=\"top\">Hombre</th>\n",
       "      <th>Administrativo</th>\n",
       "      <td>227.605096</td>\n",
       "      <td>145.068938</td>\n",
       "      <td>13.751592</td>\n",
       "      <td>2.171069</td>\n",
       "      <td>31558.152866</td>\n",
       "      <td>7997.977675</td>\n",
       "      <td>15861.210191</td>\n",
       "      <td>2564.693552</td>\n",
       "      <td>81.726115</td>\n",
       "      <td>10.670239</td>\n",
       "    </tr>\n",
       "    <tr>\n",
       "      <th>Directivo</th>\n",
       "      <td>225.135135</td>\n",
       "      <td>143.020099</td>\n",
       "      <td>17.418919</td>\n",
       "      <td>1.646971</td>\n",
       "      <td>66243.243243</td>\n",
       "      <td>18051.569628</td>\n",
       "      <td>31627.702703</td>\n",
       "      <td>9749.812860</td>\n",
       "      <td>81.770270</td>\n",
       "      <td>10.403565</td>\n",
       "    </tr>\n",
       "    <tr>\n",
       "      <th>Seguridad</th>\n",
       "      <td>233.851852</td>\n",
       "      <td>115.010268</td>\n",
       "      <td>10.185185</td>\n",
       "      <td>2.219443</td>\n",
       "      <td>30938.888889</td>\n",
       "      <td>2114.616411</td>\n",
       "      <td>15077.777778</td>\n",
       "      <td>1341.234602</td>\n",
       "      <td>81.555556</td>\n",
       "      <td>8.486792</td>\n",
       "    </tr>\n",
       "    <tr>\n",
       "      <th rowspan=\"2\" valign=\"top\">Mujer</th>\n",
       "      <th>Administrativo</th>\n",
       "      <td>246.922330</td>\n",
       "      <td>130.923973</td>\n",
       "      <td>12.194175</td>\n",
       "      <td>2.228675</td>\n",
       "      <td>25003.689320</td>\n",
       "      <td>5812.838103</td>\n",
       "      <td>12750.752427</td>\n",
       "      <td>2391.056414</td>\n",
       "      <td>80.563107</td>\n",
       "      <td>9.658228</td>\n",
       "    </tr>\n",
       "    <tr>\n",
       "      <th>Directivo</th>\n",
       "      <td>300.100000</td>\n",
       "      <td>131.694470</td>\n",
       "      <td>16.000000</td>\n",
       "      <td>0.000000</td>\n",
       "      <td>47213.500000</td>\n",
       "      <td>8501.252538</td>\n",
       "      <td>20121.000000</td>\n",
       "      <td>4252.341708</td>\n",
       "      <td>76.600000</td>\n",
       "      <td>9.766155</td>\n",
       "    </tr>\n",
       "  </tbody>\n",
       "</table>\n",
       "</div>"
      ],
      "text/plain": [
       "                               id                   educ            \\\n",
       "                             mean         std       mean       std   \n",
       "sexo   catlab                                                        \n",
       "Hombre Administrativo  227.605096  145.068938  13.751592  2.171069   \n",
       "       Directivo       225.135135  143.020099  17.418919  1.646971   \n",
       "       Seguridad       233.851852  115.010268  10.185185  2.219443   \n",
       "Mujer  Administrativo  246.922330  130.923973  12.194175  2.228675   \n",
       "       Directivo       300.100000  131.694470  16.000000  0.000000   \n",
       "\n",
       "                            salario                      salini               \\\n",
       "                               mean           std          mean          std   \n",
       "sexo   catlab                                                                  \n",
       "Hombre Administrativo  31558.152866   7997.977675  15861.210191  2564.693552   \n",
       "       Directivo       66243.243243  18051.569628  31627.702703  9749.812860   \n",
       "       Seguridad       30938.888889   2114.616411  15077.777778  1341.234602   \n",
       "Mujer  Administrativo  25003.689320   5812.838103  12750.752427  2391.056414   \n",
       "       Directivo       47213.500000   8501.252538  20121.000000  4252.341708   \n",
       "\n",
       "                        tiempemp             \n",
       "                            mean        std  \n",
       "sexo   catlab                                \n",
       "Hombre Administrativo  81.726115  10.670239  \n",
       "       Directivo       81.770270  10.403565  \n",
       "       Seguridad       81.555556   8.486792  \n",
       "Mujer  Administrativo  80.563107   9.658228  \n",
       "       Directivo       76.600000   9.766155  "
      ]
     },
     "execution_count": 19,
     "metadata": {},
     "output_type": "execute_result"
    }
   ],
   "source": [
    "# si no selecciono las variables el calculo se realizara en todas las variables numericas\n",
    "\n",
    "ed.groupby(by=['sexo', 'catlab']).agg([np.mean, np.std])"
   ]
  },
  {
   "cell_type": "code",
   "execution_count": 15,
   "id": "ad2a1258",
   "metadata": {},
   "outputs": [
    {
     "data": {
      "text/html": [
       "<div>\n",
       "<style scoped>\n",
       "    .dataframe tbody tr th:only-of-type {\n",
       "        vertical-align: middle;\n",
       "    }\n",
       "\n",
       "    .dataframe tbody tr th {\n",
       "        vertical-align: top;\n",
       "    }\n",
       "\n",
       "    .dataframe thead tr th {\n",
       "        text-align: left;\n",
       "    }\n",
       "\n",
       "    .dataframe thead tr:last-of-type th {\n",
       "        text-align: right;\n",
       "    }\n",
       "</style>\n",
       "<table border=\"1\" class=\"dataframe\">\n",
       "  <thead>\n",
       "    <tr>\n",
       "      <th></th>\n",
       "      <th></th>\n",
       "      <th colspan=\"2\" halign=\"left\">salario</th>\n",
       "      <th colspan=\"2\" halign=\"left\">tiempemp</th>\n",
       "    </tr>\n",
       "    <tr>\n",
       "      <th></th>\n",
       "      <th></th>\n",
       "      <th>mean</th>\n",
       "      <th>std</th>\n",
       "      <th>mean</th>\n",
       "      <th>std</th>\n",
       "    </tr>\n",
       "    <tr>\n",
       "      <th>sexo</th>\n",
       "      <th>catlab</th>\n",
       "      <th></th>\n",
       "      <th></th>\n",
       "      <th></th>\n",
       "      <th></th>\n",
       "    </tr>\n",
       "  </thead>\n",
       "  <tbody>\n",
       "    <tr>\n",
       "      <th rowspan=\"3\" valign=\"top\">Hombre</th>\n",
       "      <th>Administrativo</th>\n",
       "      <td>31558.152866</td>\n",
       "      <td>7997.977675</td>\n",
       "      <td>81.726115</td>\n",
       "      <td>10.670239</td>\n",
       "    </tr>\n",
       "    <tr>\n",
       "      <th>Directivo</th>\n",
       "      <td>66243.243243</td>\n",
       "      <td>18051.569628</td>\n",
       "      <td>81.770270</td>\n",
       "      <td>10.403565</td>\n",
       "    </tr>\n",
       "    <tr>\n",
       "      <th>Seguridad</th>\n",
       "      <td>30938.888889</td>\n",
       "      <td>2114.616411</td>\n",
       "      <td>81.555556</td>\n",
       "      <td>8.486792</td>\n",
       "    </tr>\n",
       "    <tr>\n",
       "      <th rowspan=\"2\" valign=\"top\">Mujer</th>\n",
       "      <th>Administrativo</th>\n",
       "      <td>25003.689320</td>\n",
       "      <td>5812.838103</td>\n",
       "      <td>80.563107</td>\n",
       "      <td>9.658228</td>\n",
       "    </tr>\n",
       "    <tr>\n",
       "      <th>Directivo</th>\n",
       "      <td>47213.500000</td>\n",
       "      <td>8501.252538</td>\n",
       "      <td>76.600000</td>\n",
       "      <td>9.766155</td>\n",
       "    </tr>\n",
       "  </tbody>\n",
       "</table>\n",
       "</div>"
      ],
      "text/plain": [
       "                            salario                 tiempemp           \n",
       "                               mean           std       mean        std\n",
       "sexo   catlab                                                          \n",
       "Hombre Administrativo  31558.152866   7997.977675  81.726115  10.670239\n",
       "       Directivo       66243.243243  18051.569628  81.770270  10.403565\n",
       "       Seguridad       30938.888889   2114.616411  81.555556   8.486792\n",
       "Mujer  Administrativo  25003.689320   5812.838103  80.563107   9.658228\n",
       "       Directivo       47213.500000   8501.252538  76.600000   9.766155"
      ]
     },
     "execution_count": 15,
     "metadata": {},
     "output_type": "execute_result"
    }
   ],
   "source": [
    "ed[['sexo', 'catlab', 'salario', 'tiempemp']].groupby(by=['sexo', 'catlab'], as_index = False).agg([np.mean, np.std])"
   ]
  }
 ],
 "metadata": {
  "kernelspec": {
   "display_name": "Python 3",
   "language": "python",
   "name": "python3"
  },
  "language_info": {
   "codemirror_mode": {
    "name": "ipython",
    "version": 3
   },
   "file_extension": ".py",
   "mimetype": "text/x-python",
   "name": "python",
   "nbconvert_exporter": "python",
   "pygments_lexer": "ipython3",
   "version": "3.8.8"
  }
 },
 "nbformat": 4,
 "nbformat_minor": 5
}
